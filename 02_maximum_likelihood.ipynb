{
 "cells": [
  {
   "cell_type": "code",
   "execution_count": 1,
   "metadata": {},
   "outputs": [
    {
     "name": "stdout",
     "output_type": "stream",
     "text": [
      "Populating the interactive namespace from numpy and matplotlib\n"
     ]
    }
   ],
   "source": [
    "%pylab inline\n",
    "import numpy as np\n",
    "import pandas as pd\n",
    "\n",
    "from IPython.display import display"
   ]
  },
  {
   "cell_type": "markdown",
   "metadata": {},
   "source": [
    "시작전 visualization에 사용될 코드 정의"
   ]
  },
  {
   "cell_type": "code",
   "execution_count": 2,
   "metadata": {},
   "outputs": [],
   "source": [
    "def disply_plot(theta, p, plot=None):\n",
    "    if plot is None:\n",
    "        fig, plot = plt.subplots()\n",
    "    \n",
    "    if len(theta) <= 30:\n",
    "        plot.bar(theta, p, align='center', color='skyblue', width=0.05)\n",
    "    else:\n",
    "        plot.plot(theta, p)\n",
    "    ticks = np.arange(0, 1.1, 0.1)\n",
    "    plot.set_xticks(ticks)\n",
    "    plot.set_xticklabels(ticks)\n",
    "    plot.set_xlabel('theta')\n",
    "    plot.set_ylabel('likelihood')\n",
    "    plot.grid()"
   ]
  },
  {
   "cell_type": "markdown",
   "metadata": {},
   "source": [
    "# Likelihood\n",
    "\n",
    "Likelihood는 unknown parameters $ \\theta $ 를 추정한는데 사용되는 함수입니다. <br>\n",
    "$ X^n = (x_1, ... x_n) $ 는 joint density $ P(x^n;\\theta) = p(x_1, ..., x_n; \\theta) $ 를 따를때.. <br>\n",
    "likelihood function 은 다음과 같이 정의 될 수 있습니다.\n",
    "\n",
    "$$ L(\\theta) = L(\\theta; x^n) = P(x^n; \\theta) $$\n",
    "\n",
    "여기서 $ x^n $ 은 parameter로 고정되었으며, $ \\theta $ 는 variable입니다.<br>\n",
    "Likelihood의 몇가지 속성은 다음과 같습니다.\n",
    "\n",
    "만약 데이터가 **iid** (identically independent distribution) 이라면 **likelihood function은 다음과 같이 정의** 됩니다.<br>\n",
    "\n",
    "\n",
    "$$ \\begin{align} \n",
    "L(\\theta\\ |\\ x) &= \\prod^n_{i=1} p(x_i ; \\theta)  \\\\\n",
    "&= \\prod^n_{i=1} L(\\theta ; x_i)\n",
    "\\end{align}$$"
   ]
  },
  {
   "cell_type": "markdown",
   "metadata": {},
   "source": [
    "## Coin Flipping Example\n",
    "\n",
    "동전을 `independently` 10번 동졌을때 `앞면`이 나올 확률을 계산하려고 합니다.<br>\n",
    "10번을 던졌을때 HHTHHHTTHH 가 나왔을때 Binomial distribution을 적용했을때 다음과 같습니다.\n",
    "\n",
    "> Bernoulli distribution은 다음과 같으며, $ \\theta $ 는 성공확률이라고 보면 됩니다.<br>\n",
    "> $ f(k; \\theta) = \\theta^k (1-\\theta)^{1-k} \\qquad x \\in \\{0, 1\\} $ \n",
    "\n",
    "$$ \\begin{align} \n",
    "P(data\\ |\\ \\theta) &= P(HHTHHHTTHH\\ |\\ \\theta) \\\\\n",
    "&= \\theta^{7} (1-\\theta)^{10-7}\n",
    "\\end{align} $$\n",
    "\n",
    "이경우 variable data $ x $ 는 이미 수집되어 있으므로 `고정`되어 있다고 봅니다.<br>\n",
    "Parameters $ \\theta $ 는 원래는 고정된 값이지만 아직 모르는 값입니다.\n",
    "\n",
    "**Probability density function**와 **Likelihood function** 의 차이점은 고정되어 있는 parameters를 **서로 뒤바꿔** 준다는 것입니다.<br>\n",
    "예를 들어서 $ f(x\\ |\\ \\theta) $ 였다면 likelihood는 $ f(\\theta\\ |\\ x) $ 로 바꿔줍니다.<br>\n",
    "($ x_i $ 는 1이면 head이고 0이면 tail 입니다.)\n",
    "\n",
    "$$ \\begin{align} \n",
    "L(\\theta\\ |\\ data) &= P(\\theta\\ |\\ HHTHHHTTHH) \\\\\n",
    "&= \\prod^n_{i=1} f(x_i; \\theta)  \\\\ \n",
    "&= \\theta^{x_1} (1-\\theta)^{1-x_1} \\cdot \\theta^{x_2} (1-\\theta)^{1-x_2} \\cdot ... \\cdot \\theta^{x_n} \\\\\n",
    "&= \\theta^{7} (1-\\theta)^{10-7}\n",
    "\\end{align} $$\n",
    "\n",
    "Probability distribution function $ P(data\\ |\\ \\theta) $ 와 Likelihoood function 의 결과는 동일합니다.<br>\n",
    "하지만 그 `의미`는 매우 다릅니다.\n",
    "\n",
    "$$ L(\\theta\\ |\\ data) = P(data\\ |\\ \\theta) $$\n",
    "\n",
    "아래의 코드는 서로다른 $ \\theta $ 에 따른 likelihood를 계산한 것입니다."
   ]
  },
  {
   "cell_type": "code",
   "execution_count": 3,
   "metadata": {},
   "outputs": [
    {
     "data": {
      "image/png": "[encoded data removed]",
      "text/plain": [
       "<matplotlib.figure.Figure at 0x7f52dd261630>"
      ]
     },
     "metadata": {},
     "output_type": "display_data"
    }
   ],
   "source": [
    "def bernoulli_likelihood(theta):\n",
    "    return theta**7 * (1-theta)**3\n",
    "\n",
    "# Display\n",
    "fig, subplots = plt.subplots(2)\n",
    "fig.set_figheight(5)\n",
    "fig.tight_layout()\n",
    "subplots[0].set_title('Likelihood of 7 coin flips')\n",
    "\n",
    "# Plot1\n",
    "theta = np.arange(0, 1.1, 0.1)\n",
    "p = bernoulli_likelihood(theta)\n",
    "disply_plot(theta, p, subplots[0])\n",
    "\n",
    "# Plot2\n",
    "theta = np.arange(0, 1.001, 0.001)\n",
    "p = bernoulli_likelihood(theta)\n",
    "disply_plot(theta, p, subplots[1])"
   ]
  },
  {
   "cell_type": "markdown",
   "metadata": {},
   "source": [
    "# Loglikehood\n",
    "\n",
    "대부분의 경우에서는 computation의 이유로 log-likelihood 를 사용합니다.\n",
    "\n",
    "$$ l(\\theta\\ |\\ x) = \\log L(\\theta\\ |\\ x) $$\n",
    "\n",
    "**예를 들어서 binomial loglikelihood** 는 다음과 같습니다.\n",
    "> [log rule](https://www.rapidtables.com/math/algebra/logarithm/Logarithm_Rules.html)을 참조합니다.<br>\n",
    "> power rule: $ \\log m^r = r( \\log m) $ <br>\n",
    "> product rule: $ \\log_b(x \\cdot y) = \\log_b(x) + \\log_b(y) $\n",
    "\n",
    "$$ \\begin{align} \n",
    "l(\\theta\\ |\\ x) &= \\log \\left(  \\theta^x (1-\\theta)^{n-x} \\right) \\\\\n",
    "&= \\log \\big(\\theta^x \\big) + \\log \\big((1-\\theta)^{n-x} \\big)  \\\\\n",
    "&= x \\log \\theta + (n-x) \\log (1-\\theta)\n",
    "\\end{align}$$\n",
    "\n",
    "대부분의 문제에서, loglikelihood는 하나의 observation으로 연산하는 것이 아니라 sample로 부터 연산을 합니다.<br>\n",
    "Independent sample $ x_1, x_2, ..., x_n $ 의 likelihood의 곱은 overall likelihood와 동일합니다.\n",
    "\n",
    "> $ x $ 이나 $ x_i $ 냐를 잘 구분지어서 봐야 합니다.\n",
    "\n",
    "$$ \\begin{align} \n",
    "L(\\theta\\ |\\ x) &= \\prod^n_{i=1} f(x_i | \\theta)  \\\\\n",
    "&= \\prod^n_{i=1} L(\\theta\\ |\\ x_i)\n",
    "\\end{align}$$\n",
    "\n",
    "**Log-likelihood의 정의**는 다음과 같습니다.\n",
    "\n",
    "$$ \\begin{align} \n",
    "l(\\theta\\ |\\ x) &= \\log \\prod^n_{i=1} f(x_i\\ |\\ \\theta) \\\\\n",
    "&= \\sum^n_{i=1} \\log f(x_i\\ |\\ \\theta) \\\\\n",
    "&= \\sum^n_{i=1} \\log f(\\theta\\ |\\ x_i)\n",
    "\\end{align} $$\n",
    "\n",
    "\n",
    "\n",
    "\n"
   ]
  },
  {
   "cell_type": "markdown",
   "metadata": {},
   "source": [
    "# Maximum Likelihood\n",
    "\n",
    "간단히 정의하면, 주어진 샘플 $ x $ 에 대해서 likelihood를 maximize하는 parameter $ \\theta $ 를 찾는 것입니다.<br>\n",
    "위의 동전 던지기 예제에서는 0.7 정도가 maximum likelihood로 볼 수 있습니다.<br>\n",
    "Likelihood function $ \\mathbf{L} = f(\\mathbf{x};\\theta) $ 일때  **Maximum likelihood estimator (MLE)의 공식**은 다음과 같습니다.\n",
    "\n",
    "$$ \\hat{\\theta}(x) =  arg\\max_{\\theta} \\mathbf{L}(\\theta | \\mathbf{x}) $$ \n",
    "\n"
   ]
  },
  {
   "cell_type": "markdown",
   "metadata": {},
   "source": [
    "## Fireman Test Example \n",
    "\n",
    "$ X^n = (x_i, ..., x_n) $ 샘플이 있으며 다음과 같은 값을 갖을 수 있습니다.\n",
    "\n",
    "* $ x_i = 0 $ : 소방관 시험에 합격한 사람\n",
    "* $ x_i = 1 $ : 소방관 시험에 불합격한 사람\n",
    "\n",
    "$ x_i $ 가 independent Bernoulli random variables이며 parameter $ \\theta $ 는 모르고 있을때, <br>\n",
    "각각의 $ x_i $ 에 대한 Probability mass function 은 다음과 같을 것입니다.\n",
    "\n",
    "$$ f(x_i; \\theta) = \\theta^{x_i} (1-\\theta)^{1-x_i} $$\n",
    "\n",
    "* $ \\theta $ 는 확률로서 0에서 1의 값을 갖습니다.\n",
    "\n",
    "따라서 likelihood function $ P(\\theta) $ 는 다음과 같을 것입니다.\n",
    "\n",
    "$$ \\begin{align} \n",
    "L(\\theta) &= \\prod^n_{i=1} f(x_i; \\theta)  \\\\ \n",
    "&= \\theta^{x_1} (1-\\theta)^{1-x_1} * \\theta^{x_2} (1-\\theta)^{1-x_2} * ... * \\theta^{x_n} (1-\\theta)^{1-x_n} \\\\\n",
    "&= \\theta^{\\sum x_i} (1-\\theta)^{n-\\sum x_i}\n",
    "\\end{align} $$\n",
    "\n",
    "Likelihood를 알아냈지만, maximum likelihood의 연산량을 줄이기 위해서 log likelihood를 사용합니다. \n",
    "\n",
    "$$ \\begin{align} \n",
    "\\ln L(\\theta) &= \\left( \\sum^n_{i=1} x_i \\right) \\ln\\theta + \\left(n-\\sum^n_{i=1} x_i \\right) \\ln(1-\\theta)  \\\\\n",
    "&= n\\big( \\bar{x} \\ln \\theta + (1-\\bar{x}) \\ln(1-\\theta) \\big)\n",
    "\\end{align} $$\n",
    "\n",
    "\n",
    "Likelihood를 알아냈으면 **maximum likelihood**를 partial derivative로 찾을수 있습니다. \n",
    "\n",
    "\n",
    "단순히 해당 likelihood $ L(\\theta) $ 를 **maximize**하는 $ \\theta $ 값을 찾으면 됩니다.\n",
    "\n",
    "아래의 코드는 7명이 합격하고, 3명이 실패했을때 입니다. (coin flip과 동일) <br>\n",
    "계산 방식을 각각의 probability mass function을 구한 다음에 곱으로 $ \\prod $ 계산한 것입니다."
   ]
  },
  {
   "cell_type": "code",
   "execution_count": 4,
   "metadata": {
    "scrolled": true
   },
   "outputs": [
    {
     "name": "stderr",
     "output_type": "stream",
     "text": [
      "/usr/local/lib/python3.6/site-packages/ipykernel/__main__.py:7: RuntimeWarning: divide by zero encountered in log\n"
     ]
    },
    {
     "data": {
      "image/png": "[encoded data removed]",
      "text/plain": [
       "<matplotlib.figure.Figure at 0x7f52dd261470>"
      ]
     },
     "metadata": {},
     "output_type": "display_data"
    }
   ],
   "source": [
    "def bernoulli_likelihood2(x, theta):\n",
    "    return theta**x * (1-theta)**(1-x)\n",
    "\n",
    "theta = np.arange(0, 1.01, 0.01)\n",
    "x = np.array([1, 1, 1, 1, 1, 1, 1, 0, 0, 0])\n",
    "\n",
    "p = [np.prod(bernoulli_likelihood2(x, t)) for t in theta]\n",
    "disply_plot(theta, p)"
   ]
  },
  {
   "cell_type": "markdown",
   "metadata": {},
   "source": [
    "## References\n",
    "\n",
    "* http://math.arizona.edu/~jwatkins/o-mle.pdf\n",
    "* https://onlinecourses.science.psu.edu/stat414/node/191"
   ]
  }
 ],
 "metadata": {
  "kernelspec": {
   "display_name": "Python 3",
   "language": "python",
   "name": "python3"
  },
  "language_info": {
   "codemirror_mode": {
    "name": "ipython",
    "version": 3
   },
   "file_extension": ".py",
   "mimetype": "text/x-python",
   "name": "python",
   "nbconvert_exporter": "python",
   "pygments_lexer": "ipython3",
   "version": "3.6.1"
  }
 },
 "nbformat": 4,
 "nbformat_minor": 2
}
