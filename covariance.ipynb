{
 "cells": [
  {
   "cell_type": "markdown",
   "metadata": {},
   "source": [
    "# Covariance\n",
    "\n",
    "* http://www.dummies.com/education/math/business-statistics/how-to-measure-the-covariance-and-correlation-of-data-samples/"
   ]
  },
  {
   "cell_type": "code",
   "execution_count": 68,
   "metadata": {},
   "outputs": [
    {
     "name": "stdout",
     "output_type": "stream",
     "text": [
      "Populating the interactive namespace from numpy and matplotlib\n"
     ]
    }
   ],
   "source": [
    "%pylab inline\n",
    "import numpy as np"
   ]
  },
  {
   "cell_type": "code",
   "execution_count": 2,
   "metadata": {},
   "outputs": [
    {
     "name": "stdout",
     "output_type": "stream",
     "text": [
      "(3, 3)\n"
     ]
    },
    {
     "data": {
      "text/plain": [
       "array([[ 0.025  ,  0.0075 ,  0.00175],\n",
       "       [ 0.0075 ,  0.007  ,  0.00135],\n",
       "       [ 0.00175,  0.00135,  0.00043]])"
      ]
     },
     "execution_count": 2,
     "metadata": {},
     "output_type": "execute_result"
    }
   ],
   "source": [
    "data = np.array([[4.0, 4.2, 3.9, 4.3, 4.1], \n",
    "                 [2.0, 2.1, 2.0, 2.1, 2.2], \n",
    "                 [0.6, 0.59, 0.58, 0.62, 0.63]])\n",
    "\n",
    "cov = np.cov(data)\n",
    "print(cov.shape)\n",
    "cov"
   ]
  },
  {
   "cell_type": "code",
   "execution_count": 106,
   "metadata": {},
   "outputs": [
    {
     "name": "stdout",
     "output_type": "stream",
     "text": [
      "[[ 0.025    0.0075   0.00175]\n",
      " [ 0.0075   0.007    0.00135]\n",
      " [ 0.00175  0.00135  0.00043]]\n"
     ]
    }
   ],
   "source": [
    "def covariance(data, ddof=0):\n",
    "    k = data.shape[0]\n",
    "    \n",
    "    cov = np.zeros((k, k))\n",
    "    for i in range(k):\n",
    "        for j in range(k):\n",
    "            a = data[i]\n",
    "            b = data[j]\n",
    "            cov[i, j] = np.sum((a-np.mean(a)) * (b-np.mean(b)))/(5-ddof)\n",
    "    print(cov)\n",
    "        \n",
    "covariance(data, ddof=1)"
   ]
  },
  {
   "cell_type": "code",
   "execution_count": null,
   "metadata": {},
   "outputs": [],
   "source": []
  },
  {
   "cell_type": "code",
   "execution_count": 14,
   "metadata": {},
   "outputs": [
    {
     "data": {
      "text/plain": [
       "array([ 0.025  ,  0.007  ,  0.00043])"
      ]
     },
     "execution_count": 14,
     "metadata": {},
     "output_type": "execute_result"
    }
   ],
   "source": [
    "np.var(data, axis=1, ddof=1)"
   ]
  },
  {
   "cell_type": "code",
   "execution_count": 58,
   "metadata": {},
   "outputs": [
    {
     "name": "stdout",
     "output_type": "stream",
     "text": [
      "[[ 504.  360.  180.]\n",
      " [ 360.  360.    0.]\n",
      " [ 180.    0.  720.]]\n",
      "[[ 24.   0.  30.]\n",
      " [ 24.  30. -30.]\n",
      " [ -6.   0.   0.]\n",
      " [ -6.   0.  30.]\n",
      " [-36. -30. -30.]]\n"
     ]
    }
   ],
   "source": [
    "data2 = np.array([[90, 90, 60, 60, 30], \n",
    "                  [60, 90, 60, 60, 30], \n",
    "                  [90, 30, 60, 90, 30]])\n",
    "\n",
    "print(np.cov(data2, ddof=0))\n",
    "covariance(data2)"
   ]
  },
  {
   "cell_type": "code",
   "execution_count": 87,
   "metadata": {},
   "outputs": [
    {
     "data": {
      "text/plain": [
       "0    NaN\n",
       "1    1.0\n",
       "2   -1.0\n",
       "3    3.0\n",
       "4   -2.0\n",
       "5    1.0\n",
       "6   -2.0\n",
       "7    4.0\n",
       "dtype: float64"
      ]
     },
     "execution_count": 87,
     "metadata": {},
     "output_type": "execute_result"
    }
   ],
   "source": [
    "import pandas as pd\n",
    "d = pd.Series([1, 2, 1, 4, 2, 3, 1, 5])\n",
    "d.diff(1)"
   ]
  }
 ],
 "metadata": {
  "kernelspec": {
   "display_name": "Python 3",
   "language": "python",
   "name": "python3"
  },
  "language_info": {
   "codemirror_mode": {
    "name": "ipython",
    "version": 3
   },
   "file_extension": ".py",
   "mimetype": "text/x-python",
   "name": "python",
   "nbconvert_exporter": "python",
   "pygments_lexer": "ipython3",
   "version": "3.6.1"
  }
 },
 "nbformat": 4,
 "nbformat_minor": 2
}
