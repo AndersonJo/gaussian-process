{
 "cells": [
  {
   "cell_type": "code",
   "execution_count": 7,
   "metadata": {},
   "outputs": [
    {
     "name": "stdout",
     "output_type": "stream",
     "text": [
      "Populating the interactive namespace from numpy and matplotlib\n"
     ]
    }
   ],
   "source": [
    "%pylab inline\n",
    "import numpy as np\n",
    "import pandas as pd"
   ]
  },
  {
   "cell_type": "markdown",
   "metadata": {},
   "source": [
    "# Covariance\n",
    "\n",
    "서로 다른 populations으로 부터 가져온 samples을 비교할때, 가장 많이 사용되는 방법이 covariance와 correlation입니다.<br>\n",
    "Sample covariance의 공식은 다음과 같습니다.\n",
    "\n",
    "$$ S_{XY} = \\frac{\\sum^N_{i=1} (X_i - \\bar{X})(Y_i - \\bar{Y}) }{N-1} $$\n",
    "\n",
    "위의 공식은 2개의 vectors의 covariance를 구할때 사용하고, numpy.cov 의 경우는 variance-covariance matrix로 표현이 됩니다. (covariance matrix라고도 합니다.)\n",
    "\n",
    "\n",
    "## Example\n",
    "\n",
    "수학, 영어 그리고 물리의 A학급의 점수가 다음과 같이 있을때 각 과목마다의 covariance는?\n",
    "\n",
    "| Student | Math | English | Physics |\n",
    "|:--------|:-----|:--------|:--------|\n",
    "| A       | 4.0     | 2.0  | 0.6   |\n",
    "| B       | 4.2     | 2.1  | 0.59  |\n",
    "| C       | 3.9     | 2.0  | 0.58  |\n",
    "| D       | 4.3     | 2.1  | 0.62  |\n",
    "| E       | 4.1     | 2.2  | 0.63  |\n",
    "\n",
    "\n",
    "\n"
   ]
  },
  {
   "cell_type": "code",
   "execution_count": 2,
   "metadata": {},
   "outputs": [
    {
     "name": "stdout",
     "output_type": "stream",
     "text": [
      "[Numpy Covariance]\n",
      "[[ 0.025    0.0075   0.00175]\n",
      " [ 0.0075   0.007    0.00135]\n",
      " [ 0.00175  0.00135  0.00043]]\n",
      "\n",
      "[My Covariance]\n",
      "[[ 0.025    0.0075   0.00175]\n",
      " [ 0.0075   0.007    0.00135]\n",
      " [ 0.00175  0.00135  0.00043]]\n"
     ]
    },
    {
     "data": {
      "text/plain": [
       "<matplotlib.colorbar.Colorbar at 0x7f5fdad80fd0>"
      ]
     },
     "execution_count": 2,
     "metadata": {},
     "output_type": "execute_result"
    },
    {
     "data": {
      "image/png": "[encoded data removed]",
      "text/plain": [
       "<matplotlib.figure.Figure at 0x7f5fdcde00f0>"
      ]
     },
     "metadata": {},
     "output_type": "display_data"
    }
   ],
   "source": [
    "def covariance(data, data2=None, ddof=0):\n",
    "    k = data.shape[0]\n",
    "    N = data.shape[1]\n",
    "    \n",
    "    if data2 is not None:\n",
    "        k += data2.shape[0]\n",
    "        data = np.vstack((data, data2))\n",
    "    \n",
    "    cov = np.zeros((k, k))\n",
    "    for i in range(k):\n",
    "        for j in range(k):\n",
    "            a = data[i]\n",
    "            b = data[j]\n",
    "            cov[i, j] = np.sum((a-np.mean(a)) * (b-np.mean(b)))/(N-ddof)\n",
    "    return np.array(cov)\n",
    "\n",
    "\n",
    "data = np.array([[4.0, 4.2, 3.9, 4.3, 4.1], \n",
    "                 [2.0, 2.1, 2.0, 2.1, 2.2], \n",
    "                 [0.6, 0.59, 0.58, 0.62, 0.63]])\n",
    "\n",
    "print('[Numpy Covariance]')\n",
    "print(np.cov(data))\n",
    "print()\n",
    "print('[My Covariance]')\n",
    "print(covariance(data, ddof=1))\n",
    "\n",
    "cax = imshow(np.cov(data), interpolation='nearest', cmap=cm.get_cmap('jet', 30))\n",
    "colorbar(cax)"
   ]
  },
  {
   "cell_type": "markdown",
   "metadata": {},
   "source": [
    "아래는 2개의 matrix에 대해서 covariance matrix 를 구하는 코드입니다."
   ]
  },
  {
   "cell_type": "code",
   "execution_count": 3,
   "metadata": {},
   "outputs": [
    {
     "name": "stdout",
     "output_type": "stream",
     "text": [
      "[Numpy Covariance]\n",
      "[[  1.           1.5         -2.5          3.        ]\n",
      " [  1.5          6.33333333  -3.16666667   6.83333333]\n",
      " [ -2.5         -3.16666667   6.33333333  -7.16666667]\n",
      " [  3.           6.83333333  -7.16666667  10.33333333]]\n",
      "\n",
      "[My Covariance]\n",
      "[[  1.           1.5         -2.5          3.        ]\n",
      " [  1.5          6.33333333  -3.16666667   6.83333333]\n",
      " [ -2.5         -3.16666667   6.33333333  -7.16666667]\n",
      " [  3.           6.83333333  -7.16666667  10.33333333]]\n"
     ]
    },
    {
     "data": {
      "text/plain": [
       "<matplotlib.colorbar.Colorbar at 0x7f5fdac61d30>"
      ]
     },
     "execution_count": 3,
     "metadata": {},
     "output_type": "execute_result"
    },
    {
     "data": {
      "image/png": "[encoded data removed]",
      "text/plain": [
       "<matplotlib.figure.Figure at 0x7f6024110780>"
      ]
     },
     "metadata": {},
     "output_type": "display_data"
    }
   ],
   "source": [
    "a = np.array([[1,2,3], [-1, 4, 2]])\n",
    "b = np.array([[3, 1, -2], [-1, 4, 5]])\n",
    "\n",
    "print('[Numpy Covariance]')\n",
    "print(np.cov(a, b))\n",
    "print()\n",
    "print('[My Covariance]')\n",
    "print(covariance(a, b, ddof=1))\n",
    "\n",
    "cax = imshow(np.cov(a, b), interpolation='nearest', cmap=cm.get_cmap('jet', 30))\n",
    "colorbar(cax)"
   ]
  },
  {
   "cell_type": "markdown",
   "metadata": {},
   "source": [
    "남자와 여자의 키의 분포를 갖고서 covariance를 구합니다."
   ]
  },
  {
   "cell_type": "code",
   "execution_count": 46,
   "metadata": {},
   "outputs": [
    {
     "name": "stdout",
     "output_type": "stream",
     "text": [
      "[Numpy Covariance]\n",
      "[[ 8.19884325 -0.25129107]\n",
      " [-0.25129107  7.26994749]]\n",
      "\n",
      "[My Covariance]\n",
      "[[ 8.19884325 -0.25129107]\n",
      " [-0.25129107  7.26994749]]\n"
     ]
    },
    {
     "data": {
      "text/plain": [
       "<matplotlib.colorbar.Colorbar at 0x7f5fc9253cc0>"
      ]
     },
     "execution_count": 46,
     "metadata": {},
     "output_type": "execute_result"
    },
    {
     "data": {
      "image/png": "[encoded data removed]",
      "text/plain": [
       "<matplotlib.figure.Figure at 0x7f5fc92d99b0>"
      ]
     },
     "metadata": {},
     "output_type": "display_data"
    }
   ],
   "source": [
    "data = pd.read_csv('dataset/gender-height-weight.csv', usecols=(0, 1, 2))\n",
    "x = np.array([data[data['Gender'] == 'Male']['Height'].as_matrix()])\n",
    "y = np.array([data[data['Gender'] == 'Female']['Height'].as_matrix()])\n",
    "\n",
    "print('[Numpy Covariance]')\n",
    "print(np.cov(x, y))\n",
    "print()\n",
    "print('[My Covariance]')\n",
    "print(covariance(x, y, ddof=1))\n",
    "\n",
    "cax = imshow(np.cov(x, y), interpolation='nearest', cmap=cm.get_cmap('jet', 30))\n",
    "colorbar(cax)"
   ]
  },
  {
   "cell_type": "markdown",
   "metadata": {},
   "source": [
    "## Problems with Interpretation\n",
    "\n",
    "Covariance의 값이 크면 클수록 strong relationship을 나타냅니다. <br>\n",
    "하지만 서로 다른 수치를 갖은 값끼리 (원달러 vs 엔화, inches vs Km) 비교를 할 수는 없습니다.\n",
    "\n",
    "해석의 가장 큰 문제점은 결과값의 range자체가 다양하기 때문에 해석의 어려움이 있습니다. <br>\n",
    "예를 들어서 데이터가 달라짐에 따라서 결과값이 3이 될수도 있고, 500000이 될 수도 있습니다.<br>\n",
    "300이라는 값이 두 variables사이의 관련성이 있다는 것을 설명할수는 있지만 `correlation coefficient`와는 다르게 정확하게 얼마나 강한 관계를 갖고 있는지는 설명을 못합니다."
   ]
  },
  {
   "cell_type": "markdown",
   "metadata": {},
   "source": [
    "# Correlation Coefficient\n",
    "\n",
    "위에서 적었듯이 covariance는 해석상의 문제가 있습니다. (즉 관련성 있는건 알겠는데 정확하게 얼마나 관련성이 있는지 확신하기 어려움..) 이를 해결하기 위해서는 `Correlation coefficient`를 사용하면 되면 아래와 같은 공식을 사용하면 되며 **결과값의 range는 -1 그리고 1 사이의 값**을 갖습니다.\n",
    "\n",
    "$$ Cor(X, Y) = \\frac{Cov(X, Y)}{\\sigma_X \\sigma_Y} $$"
   ]
  },
  {
   "cell_type": "code",
   "execution_count": 4,
   "metadata": {},
   "outputs": [
    {
     "name": "stdout",
     "output_type": "stream",
     "text": [
      "[Numpy Correlation Coefficient]\n",
      "[[ 1.          0.56694671  0.533745  ]\n",
      " [ 0.56694671  1.          0.77812706]\n",
      " [ 0.533745    0.77812706  1.        ]]\n",
      "\n",
      "[My Correlation Coefficient]\n",
      "[[ 1.          0.56694671  0.533745  ]\n",
      " [ 0.56694671  1.          0.77812706]\n",
      " [ 0.533745    0.77812706  1.        ]]\n"
     ]
    }
   ],
   "source": [
    "def correlation_coefficient(data, data2=None, ddof=0):\n",
    "    k = data.shape[0]\n",
    "    N = data.shape[1]\n",
    "    \n",
    "    if data2 is not None:\n",
    "        k += data2.shape[0]\n",
    "        data = np.vstack((data, data2))\n",
    "    \n",
    "    cov = np.zeros((k, k))\n",
    "    \n",
    "    for i in range(k):\n",
    "        for j in range(k):\n",
    "            a = data[i]\n",
    "            b = data[j]\n",
    "            cov[i, j] = np.sum((a-np.mean(a)) * (b-np.mean(b)))/(N-ddof)\n",
    "            cov[i, j] /= (np.std(a) * np.std(b))\n",
    "    return np.array(cov)\n",
    "\n",
    "print('[Numpy Correlation Coefficient]')\n",
    "print(np.corrcoef(data))\n",
    "print()\n",
    "print('[My Correlation Coefficient]')\n",
    "print(correlation_coefficient(data))"
   ]
  }
 ],
 "metadata": {
  "kernelspec": {
   "display_name": "Python 3",
   "language": "python",
   "name": "python3"
  },
  "language_info": {
   "codemirror_mode": {
    "name": "ipython",
    "version": 3
   },
   "file_extension": ".py",
   "mimetype": "text/x-python",
   "name": "python",
   "nbconvert_exporter": "python",
   "pygments_lexer": "ipython3",
   "version": "3.6.1"
  }
 },
 "nbformat": 4,
 "nbformat_minor": 2
}
