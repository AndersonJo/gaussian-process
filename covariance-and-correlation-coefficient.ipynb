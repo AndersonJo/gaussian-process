{
 "cells": [
  {
   "cell_type": "code",
   "execution_count": 13,
   "metadata": {},
   "outputs": [
    {
     "name": "stdout",
     "output_type": "stream",
     "text": [
      "Populating the interactive namespace from numpy and matplotlib\n"
     ]
    },
    {
     "name": "stderr",
     "output_type": "stream",
     "text": [
      "/usr/local/lib/python3.6/site-packages/IPython/core/magics/pylab.py:160: UserWarning: pylab import has clobbered these variables: ['cov']\n",
      "`%matplotlib` prevents importing * from pylab and numpy\n",
      "  \"\\n`%matplotlib` prevents importing * from pylab and numpy\"\n"
     ]
    }
   ],
   "source": [
    "%pylab inline\n",
    "import numpy as np"
   ]
  },
  {
   "cell_type": "markdown",
   "metadata": {},
   "source": [
    "# Covariance\n",
    "\n",
    "서로 다른 populations으로 부터 가져온 samples을 비교할때, 가장 많이 사용되는 방법이 covariance와 correlation입니다.<br>\n",
    "Sample covariance의 공식은 다음과 같습니다.\n",
    "\n",
    "$$ S_{XY} = \\frac{\\sum^N_{i=1} (X_i - \\bar{X})(Y_i - \\bar{Y}) }{N-1} $$\n",
    "\n",
    "위의 공식은 2개의 vectors의 covariance를 구할때 사용하고, numpy.cov 의 경우는 variance-covariance matrix로 표현이 됩니다. (covariance matrix라고도 합니다.)\n",
    "\n",
    "\n",
    "## Example\n",
    "\n",
    "수학, 영어 그리고 물리의 A학급의 점수가 다음과 같이 있을때 각 과목마다의 covariance는?\n",
    "\n",
    "| Student | Math | English | Physics |\n",
    "|:--------|:-----|:--------|:--------|\n",
    "| A       | 4.0     | 2.0  | 0.6   |\n",
    "| B       | 4.2     | 2.1  | 0.59  |\n",
    "| C       | 3.9     | 2.0  | 0.58  |\n",
    "| D       | 4.3     | 2.1  | 0.62  |\n",
    "| E       | 4.1     | 2.2  | 0.63  |\n",
    "\n",
    "\n",
    "\n"
   ]
  },
  {
   "cell_type": "code",
   "execution_count": 26,
   "metadata": {},
   "outputs": [
    {
     "name": "stdout",
     "output_type": "stream",
     "text": [
      "[Numpy Covariance]\n",
      "[[ 0.025    0.0075   0.00175]\n",
      " [ 0.0075   0.007    0.00135]\n",
      " [ 0.00175  0.00135  0.00043]]\n",
      "\n",
      "[My Covariance]\n",
      "[[ 0.025    0.0075   0.00175]\n",
      " [ 0.0075   0.007    0.00135]\n",
      " [ 0.00175  0.00135  0.00043]]\n"
     ]
    },
    {
     "data": {
      "text/plain": [
       "<matplotlib.colorbar.Colorbar at 0x7fa0588b8ef0>"
      ]
     },
     "execution_count": 26,
     "metadata": {},
     "output_type": "execute_result"
    },
    {
     "data": {
      "image/png": "[encoded data removed]",
      "text/plain": [
       "<matplotlib.figure.Figure at 0x7fa0585be940>"
      ]
     },
     "metadata": {},
     "output_type": "display_data"
    }
   ],
   "source": [
    "def covariance(data, data2=None, ddof=0):\n",
    "    k = data.shape[0]\n",
    "    N = data.shape[1]\n",
    "    \n",
    "    cov = np.zeros((k, k))\n",
    "    for i in range(k):\n",
    "        for j in range(k):\n",
    "            a = data[i]\n",
    "            b = data[j]\n",
    "            cov[i, j] = np.sum((a-np.mean(a)) * (b-np.mean(b)))/(N-ddof)\n",
    "    return np.array(cov)\n",
    "\n",
    "\n",
    "data = np.array([[4.0, 4.2, 3.9, 4.3, 4.1], \n",
    "                 [2.0, 2.1, 2.0, 2.1, 2.2], \n",
    "                 [0.6, 0.59, 0.58, 0.62, 0.63]])\n",
    "\n",
    "print('[Numpy Covariance]')\n",
    "print(np.cov(data))\n",
    "print()\n",
    "print('[My Covariance]')\n",
    "print(covariance(data, ddof=1))\n",
    "\n",
    "cax = imshow(np.cov(data), interpolation='nearest', cmap=cm.get_cmap('jet', 30))\n",
    "colorbar(cax)"
   ]
  },
  {
   "cell_type": "markdown",
   "metadata": {},
   "source": [
    "## Problems with Interpretation\n",
    "\n",
    "Covariance의 값이 크면 클수록 strong relationship을 나타냅니다. <br>\n",
    "하지만 서로 다른 수치를 갖은 값끼리 (원달러 vs 엔화, inches vs Km) 비교를 할 수는 없습니다.\n",
    "\n",
    "해석의 가장 큰 문제점은 결과값의 range자체가 다양하기 때문에 해석의 어려움이 있습니다. <br>\n",
    "예를 들어서 데이터가 달라짐에 따라서 결과값이 3이 될수도 있고, 500000이 될 수도 있습니다.<br>\n",
    "300이라는 값이 두 variables사이의 관련성이 있다는 것을 설명할수는 있지만 `correlation coefficient`와는 다르게 정확하게 얼마나 강한 관계를 갖고 있는지는 설명을 못합니다."
   ]
  },
  {
   "cell_type": "markdown",
   "metadata": {},
   "source": [
    "# Correlation Coefficient\n",
    "\n",
    "위에서 적었듯이 covariance는 해석상의 문제가 있습니다. (즉 관련성 있는건 알겠는데 정확하게 얼마나 관련성이 있는지 확신하기 어려움..) 이를 해결하기 위해서는 `Correlation coefficient`를 사용하면 되면 아래와 같은 공식을 사용하면 되며 **결과값의 range는 -1 그리고 1 사이의 값**을 갖습니다.\n",
    "\n",
    "$$ Cor(X, Y) = \\frac{Cov(X, Y)}{\\sigma_X \\sigma_Y} $$"
   ]
  },
  {
   "cell_type": "code",
   "execution_count": 41,
   "metadata": {},
   "outputs": [
    {
     "name": "stdout",
     "output_type": "stream",
     "text": [
      "[Numpy Correlation Coefficient]\n",
      "[[ 1.          0.56694671  0.533745  ]\n",
      " [ 0.56694671  1.          0.77812706]\n",
      " [ 0.533745    0.77812706  1.        ]]\n",
      "\n",
      "[My Correlation Coefficient]\n",
      "[[ 1.          0.56694671  0.533745  ]\n",
      " [ 0.56694671  1.          0.77812706]\n",
      " [ 0.533745    0.77812706  1.        ]]\n"
     ]
    }
   ],
   "source": [
    "def correlation_coefficient(data, ddof=0):\n",
    "    k = data.shape[0]\n",
    "    N = data.shape[1]\n",
    "    \n",
    "    cov = np.zeros((k, k))\n",
    "    for i in range(k):\n",
    "        for j in range(k):\n",
    "            a = data[i]\n",
    "            b = data[j]\n",
    "            cov[i, j] = np.sum((a-np.mean(a)) * (b-np.mean(b)))/(N-ddof)\n",
    "            cov[i, j] /= (np.std(a) * np.std(b))\n",
    "    return np.array(cov)\n",
    "\n",
    "print('[Numpy Correlation Coefficient]')\n",
    "print(np.corrcoef(data))\n",
    "print()\n",
    "print('[My Correlation Coefficient]')\n",
    "print(correlation_coefficient(data))"
   ]
  },
  {
   "cell_type": "code",
   "execution_count": 47,
   "metadata": {},
   "outputs": [
    {
     "data": {
      "text/plain": [
       "array([[ 3.38719556, -0.33600444, -3.05119111],\n",
       "       [-0.33600444,  0.03479556,  0.30120889],\n",
       "       [-3.05119111,  0.30120889,  2.74998222]])"
      ]
     },
     "execution_count": 47,
     "metadata": {},
     "output_type": "execute_result"
    }
   ],
   "source": [
    "(data - np.mean(data, axis=0)) @ (data - np.mean(data, axis=0)).T / 5"
   ]
  }
 ],
 "metadata": {
  "kernelspec": {
   "display_name": "Python 3",
   "language": "python",
   "name": "python3"
  },
  "language_info": {
   "codemirror_mode": {
    "name": "ipython",
    "version": 3
   },
   "file_extension": ".py",
   "mimetype": "text/x-python",
   "name": "python",
   "nbconvert_exporter": "python",
   "pygments_lexer": "ipython3",
   "version": "3.6.3"
  }
 },
 "nbformat": 4,
 "nbformat_minor": 2
}
